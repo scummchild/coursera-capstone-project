{
    "nbformat_minor": 1, 
    "cells": [
        {
            "execution_count": 7, 
            "cell_type": "code", 
            "metadata": {}, 
            "outputs": [
                {
                    "output_type": "stream", 
                    "name": "stdout", 
                    "text": "Fetching package metadata .............\nSolving package specifications: .\n\nPackage plan for installation in environment /opt/conda/envs/DSX-Python35:\n\nThe following NEW packages will be INSTALLED:\n\n    geocoder:   1.38.1-py_0  conda-forge\n    orderedset: 2.0-py35_0   conda-forge\n    ratelim:    0.1.6-py35_0 conda-forge\n\norderedset-2.0 100% |################################| Time: 0:00:00   1.30 MB/s\nratelim-0.1.6- 100% |################################| Time: 0:00:00   8.48 MB/s\ngeocoder-1.38. 100% |################################| Time: 0:00:00  35.40 MB/s\n"
                }
            ], 
            "source": "!conda install -c conda-forge geocoder --yes"
        }, 
        {
            "execution_count": 1, 
            "cell_type": "code", 
            "metadata": {}, 
            "outputs": [], 
            "source": "from bs4 import BeautifulSoup\nimport requests\nimport pandas as pd\n\nwiki_source = requests.get('https://en.wikipedia.org/wiki/List_of_postal_codes_of_Canada:_M').text\n\nwiki = BeautifulSoup(wiki_source, 'lxml')\n\nwiki_table = wiki.find('table')\n\nm_postal_codes = pd.read_html(str(wiki_table), header=0)[0]"
        }, 
        {
            "source": "In order to work around a limit on the API call, I moved this code locally and then just copy and pasted the latitude / longitude list here", 
            "cell_type": "markdown", 
            "metadata": {}
        }, 
        {
            "source": "import geocoder\nfrom bs4 import BeautifulSoup\nimport requests\nimport pandas as pd\n\nwiki_source = requests.get('https://en.wikipedia.org/wiki/List_of_postal_codes_of_Canada:_M').text\n\nwiki = BeautifulSoup(wiki_source, 'lxml')\n\nwiki_table = wiki.find('table')\n\nm_postal_codes = pd.read_html(str(wiki_table), header=0)[0]\n\n#cleaning the codes marked as Not Assigned\ntoronto_pcodes = m_postal_codes[m_postal_codes['Borough'] != 'Not assigned']\ntoronto_pcodes = m_postal_codes[m_postal_codes['Neighbourhood'] != 'Not assigned']\n\n#use a groupby to concatenate all the neighbourhood values to a single row\npcode_grouped = toronto_pcodes.groupby([toronto_pcodes['Postcode'], toronto_pcodes['Borough']])['Neighbourhood'].apply(', '.join).reset_index()\npcode_grouped.head()\n\n#I found some stray brackets in the website data so I'm cleaning them here\npcode_grouped['Neighbourhood'].replace(to_replace=']', value='', regex=True, inplace=True)\npcode_grouped['Neighbourhood'].replace(to_replace='\\[', value='', regex=True, inplace=True)\n\ndef gcoder_lookup (postcode):\n    lat_lng_list = []\n    for code in postcode:\n        # initialize your variable to None\n        lat_lng_coords = None\n\n        # loop until you get the coordinates\n        while(lat_lng_coords is None):\n            g = geocoder.google('{}, Toronto, Ontario'.format(code))\n            lat_lng_coords = g.latlng\n        lat_lng_list.append(lat_lng_coords[1])\n    return lat_lng_list\n\n#test_list = [gcode_grouped['Neighbourhood']]\n\ntest_ll_list = gcoder_lookup(list(pcode_grouped['Postcode']))\n\nprint(test_ll_list)", 
            "cell_type": "markdown", 
            "metadata": {}
        }, 
        {
            "execution_count": 2, 
            "cell_type": "code", 
            "metadata": {}, 
            "outputs": [], 
            "source": "#cleaning the codes marked as Not Assigned\ntoronto_pcodes = m_postal_codes[m_postal_codes['Borough'] != 'Not assigned']\ntoronto_pcodes = m_postal_codes[m_postal_codes['Neighbourhood'] != 'Not assigned']\n\n#use a groupby to concatenate all the neighbourhood values to a single row\npcode_grouped = toronto_pcodes.groupby([toronto_pcodes['Postcode'], toronto_pcodes['Borough']])['Neighbourhood'].apply(', '.join).reset_index()\npcode_grouped.head()\n\n#I found some stray brackets in the website data so I'm cleaning them here\npcode_grouped['Neighbourhood'].replace(to_replace=']', value='', regex=True, inplace=True)\npcode_grouped['Neighbourhood'].replace(to_replace='\\[', value='', regex=True, inplace=True)"
        }, 
        {
            "execution_count": 11, 
            "cell_type": "code", 
            "metadata": {}, 
            "outputs": [], 
            "source": "pcode_grouped['Latitude'] = [43.8066863, 43.78453510000001, 43.7635726, 43.7709921, 43.773136, 43.7447342, 43.7279292, 43.7111117, 43.716316, 43.692657, 43.7574096, 43.7500715, 43.7942003, 43.7816375, 43.8152522, 43.7995252, 43.8361247, 43.8037622, 43.7785175, 43.7869473, 43.7574902, 43.789053, 43.7701199, 43.7527583, 43.7827364, 43.7532586, 43.7459058, 43.7258997, 43.7543283, 43.7679803, 43.7374732, 43.7390146, 43.7284964, 43.7616313, 43.72588229999999, 43.7063972, 43.6953439, 43.6763574, 43.7090604, 43.7053689, 43.685347, 43.6795571, 43.6689985, 43.6595255, 43.7280205, 43.7127511, 43.7153834, 43.7043244, 43.6895743, 43.6864123, 43.6795626, 43.667967, 43.6658599, 43.6542599, 43.6571618, 43.6514939, 43.6447708, 43.6579524, 43.65057119999999, 43.6408157, 43.6471768, 43.6481985, 43.7332825, 43.7116948, 43.6969476, 43.6727097, 43.6626956, 43.6532057, 43.6289467, 43.6464352, 43.6484292, 43.718518, 43.709577, 43.6937813, 43.68902560000001, 43.669542, 43.6690051, 43.6479267, 43.6368472, 43.7137562, 43.6911158, 43.6731853, 43.6616083, 43.6489597, 43.6515706, 43.6369656, 43.6627439, 43.6056466, 43.6024137, 43.6536536, 43.6362579, 43.6288408, 43.6678556, 43.65094320000001, 43.6435152, 43.7563033, 43.7247659, 43.706876, 43.696319, 43.6889054, 43.7394164, 43.7067483]"
        }, 
        {
            "execution_count": 12, 
            "cell_type": "code", 
            "metadata": {}, 
            "outputs": [], 
            "source": "pcode_grouped['Longitude'] = [-79.1943534, -79.1604971, -79.1887115, -79.2169174, -79.23947609999999, -79.23947609999999, -79.2620294, -79.2845772, -79.23947609999999, -79.2648481, -79.273304, -79.2958491, -79.2620294, -79.3043021, -79.2845772, -79.3183887, -79.20563609999999, -79.3634517, -79.3465557, -79.385975, -79.37471409999999, -79.40849279999999, -79.40849279999999, -79.40004929999999, -79.4422593, -79.3296565, -79.352188, -79.34092299999999, -79.4422593, -79.4872619, -79.4647633, -79.5069436, -79.4956974, -79.5209994, -79.3155716, -79.30993699999999, -79.3183887, -79.2930312, -79.3634517, -79.3493719, -79.3381065, -79.352188, -79.3155716, -79.34092299999999, -79.3887901, -79.3901975, -79.4056784, -79.3887901, -79.3831599, -79.40004929999999, -79.3775294, -79.3676753, -79.3831599, -79.36063589999999, -79.3789371, -79.3754179, -79.37330639999999, -79.3873826, -79.3845675, -79.3817523, -79.3815764, -79.3798169, -79.4197497, -79.4169356, -79.4113072, -79.4056784, -79.40004929999999, -79.40004929999999, -79.3944199, -79.37484599999999, -79.3822802, -79.4647633, -79.4450726, -79.4281914, -79.453512, -79.4225637, -79.4422593, -79.4197497, -79.4281914, -79.49007379999999, -79.47601329999999, -79.4872619, -79.4647633, -79.45632499999999, -79.4844499, -79.615819, -79.321558, -79.5013207, -79.5434841, -79.5069436, -79.49850909999999, -79.5209994, -79.5322424, -79.5547244, -79.5772008, -79.56596329999999, -79.5322424, -79.5181884, -79.5322424, -79.5547244, -79.58843689999999, -79.59405439999999]"
        }, 
        {
            "execution_count": 13, 
            "cell_type": "code", 
            "metadata": {}, 
            "outputs": [
                {
                    "execution_count": 13, 
                    "metadata": {}, 
                    "data": {
                        "text/html": "<div>\n<style scoped>\n    .dataframe tbody tr th:only-of-type {\n        vertical-align: middle;\n    }\n\n    .dataframe tbody tr th {\n        vertical-align: top;\n    }\n\n    .dataframe thead th {\n        text-align: right;\n    }\n</style>\n<table border=\"1\" class=\"dataframe\">\n  <thead>\n    <tr style=\"text-align: right;\">\n      <th></th>\n      <th>Postcode</th>\n      <th>Borough</th>\n      <th>Neighbourhood</th>\n      <th>Latitude</th>\n      <th>Longitude</th>\n    </tr>\n  </thead>\n  <tbody>\n    <tr>\n      <th>0</th>\n      <td>M1B</td>\n      <td>Scarborough</td>\n      <td>Rouge, Malvern</td>\n      <td>43.806686</td>\n      <td>-79.194353</td>\n    </tr>\n    <tr>\n      <th>1</th>\n      <td>M1C</td>\n      <td>Scarborough</td>\n      <td>Highland Creek, Rouge Hill, Port Union</td>\n      <td>43.784535</td>\n      <td>-79.160497</td>\n    </tr>\n    <tr>\n      <th>2</th>\n      <td>M1E</td>\n      <td>Scarborough</td>\n      <td>Guildwood, Morningside, West Hill</td>\n      <td>43.763573</td>\n      <td>-79.188711</td>\n    </tr>\n    <tr>\n      <th>3</th>\n      <td>M1G</td>\n      <td>Scarborough</td>\n      <td>Woburn</td>\n      <td>43.770992</td>\n      <td>-79.216917</td>\n    </tr>\n    <tr>\n      <th>4</th>\n      <td>M1H</td>\n      <td>Scarborough</td>\n      <td>Cedarbrae</td>\n      <td>43.773136</td>\n      <td>-79.239476</td>\n    </tr>\n  </tbody>\n</table>\n</div>", 
                        "text/plain": "  Postcode      Borough                           Neighbourhood   Latitude  \\\n0      M1B  Scarborough                          Rouge, Malvern  43.806686   \n1      M1C  Scarborough  Highland Creek, Rouge Hill, Port Union  43.784535   \n2      M1E  Scarborough       Guildwood, Morningside, West Hill  43.763573   \n3      M1G  Scarborough                                  Woburn  43.770992   \n4      M1H  Scarborough                               Cedarbrae  43.773136   \n\n   Longitude  \n0 -79.194353  \n1 -79.160497  \n2 -79.188711  \n3 -79.216917  \n4 -79.239476  "
                    }, 
                    "output_type": "execute_result"
                }
            ], 
            "source": "pcode_grouped.head()"
        }, 
        {
            "execution_count": null, 
            "cell_type": "code", 
            "metadata": {}, 
            "outputs": [], 
            "source": ""
        }
    ], 
    "metadata": {
        "kernelspec": {
            "display_name": "Python 3.5", 
            "name": "python3", 
            "language": "python"
        }, 
        "language_info": {
            "mimetype": "text/x-python", 
            "nbconvert_exporter": "python", 
            "version": "3.5.5", 
            "name": "python", 
            "file_extension": ".py", 
            "pygments_lexer": "ipython3", 
            "codemirror_mode": {
                "version": 3, 
                "name": "ipython"
            }
        }
    }, 
    "nbformat": 4
}