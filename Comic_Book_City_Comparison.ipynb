{
 "cells": [
  {
   "cell_type": "markdown",
   "metadata": {},
   "source": [
    "# Introduction / Problem Statement"
   ]
  },
  {
   "cell_type": "markdown",
   "metadata": {},
   "source": [
    "The other day I went to the comic book store to get a comic.  I live in St. Paul, Minnesota, so I went to a really nice comic book store near my house called, \"The Source Comics\".\n",
    "\n",
    "Unfortunately, The Source did NOT have the comic book I wanted to pick up.  If I wanted to get it, I would have to drive 30 minutes to go to another comic book store and see if they had the comic book.  Although I like the Source a lot, it seems like there is quite often a very specific comic that I want, and this problem of mine keeps happening.\n",
    "\n",
    "I wondered, is there a city in the US, where comic book stores are closer to each other?"
   ]
  },
  {
   "cell_type": "markdown",
   "metadata": {},
   "source": [
    "# The Data"
   ]
  },
  {
   "cell_type": "markdown",
   "metadata": {},
   "source": [
    "For my project I will repeatedly call the Foursquare API for the list of cities below and find which cities have the highest density of comic book stores.  I'm going to pretend for the sake of this project that the proximity of comic book stores is so vitally important to me, that I'm considering moving to avoid this VERY serious problem described above.  \n",
    "\n",
    "I think I will repeatedly call the Foursquare API to identify comic book stores and their locations.  Then for each of the stores, I will call the google api to see which are within a 5 minute drive of each other.  The city with the most \"within 5 minute\" comic book stores will be the winner!  Then I can start packing.\n",
    "\n",
    "I'm picking these cities because I don't want to go to a town that is too big...it should still be fairly similar to Minneapolis/St. Paul, because that is where I'm from:\n",
    "1. Portland, Ore.\n",
    "2. Milwaukee, WI\n",
    "3. Columbus, OH\n",
    "4. Denver\n",
    "5. Kansas City\n",
    "6. Madison, WI"
   ]
  },
  {
   "cell_type": "code",
   "execution_count": null,
   "metadata": {
    "collapsed": true
   },
   "outputs": [],
   "source": []
  }
 ],
 "metadata": {
  "kernelspec": {
   "display_name": "Python 3",
   "language": "python",
   "name": "python3"
  },
  "language_info": {
   "codemirror_mode": {
    "name": "ipython",
    "version": 3
   },
   "file_extension": ".py",
   "mimetype": "text/x-python",
   "name": "python",
   "nbconvert_exporter": "python",
   "pygments_lexer": "ipython3",
   "version": "3.5.2"
  }
 },
 "nbformat": 4,
 "nbformat_minor": 2
}
