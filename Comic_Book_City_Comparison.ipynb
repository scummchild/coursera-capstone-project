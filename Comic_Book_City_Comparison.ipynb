{
 "cells": [
  {
   "cell_type": "markdown",
   "metadata": {
    "deletable": true,
    "editable": true
   },
   "source": [
    "# Introduction / Problem Statement"
   ]
  },
  {
   "cell_type": "markdown",
   "metadata": {
    "deletable": true,
    "editable": true
   },
   "source": [
    "The other day I went to the comic book store to get a comic.  I live in St. Paul, Minnesota, so I went to a really nice comic book store near my house called, \"The Source Comics\".\n",
    "\n",
    "Unfortunately, The Source did NOT have the comic book I wanted to pick up.  If I wanted to get it, I would have to drive 30 minutes to go to another comic book store and see if they had the comic book.  Although I like the Source a lot, it seems like there is quite often a very specific comic that I want, and this problem of mine keeps happening.\n",
    "\n",
    "I wondered, is there a city in the US, where comic book stores are closer to each other?  I'm interested in this question and I think other mobile geeks in the US would too."
   ]
  },
  {
   "cell_type": "markdown",
   "metadata": {
    "deletable": true,
    "editable": true
   },
   "source": [
    "# Methodology"
   ]
  },
  {
   "cell_type": "markdown",
   "metadata": {
    "deletable": true,
    "editable": true
   },
   "source": [
    "For my project I will repeatedly call the Foursquare API for the list of cities below and find which cities have the highest density of comic book stores.  I'm going to pretend for the sake of this project that the proximity of comic book stores is so vitally important to me, that I'm considering moving to avoid this VERY serious problem described above.  \n",
    "\n",
    "I think I will repeatedly call the Foursquare API to identify comic book stores and their locations.  Then for each of the stores, I will call the google api to see which are within a 5 minute drive of each other.  The city with the most \"within 5 minute\" comic book stores will be the winner!  Then I can start packing.\n",
    "\n",
    "I'm picking these cities because I don't want to go to a town that is too big...it should still be fairly similar to Minneapolis/St. Paul, because that is where I'm from:\n",
    "1. Portland, OR.\n",
    "2. Milwaukee, WI\n",
    "3. Columbus, OH\n",
    "4. Denver, CO\n",
    "5. Kansas City, MO\n",
    "6. Madison, WI\n",
    "\n",
    "For exploratory data analysis, for each city I am using the Foursquare API to create a dataframe of the Comic Book stores.  Then for each row in the dataframe I am repeatedly calling the Google Distance Matrix API to find the time (in seconds) between each combination of the data frame rows.  This number is used to score each city as a general indicator of how dense the city's comic book stores are geographically."
   ]
  },
  {
   "cell_type": "markdown",
   "metadata": {},
   "source": [
    "# Data"
   ]
  },
  {
   "cell_type": "code",
   "execution_count": 1,
   "metadata": {
    "collapsed": false,
    "deletable": true,
    "editable": true
   },
   "outputs": [],
   "source": [
    "from geopy.geocoders import Nominatim\n",
    "import requests\n",
    "from pandas.io.json import json_normalize"
   ]
  },
  {
   "cell_type": "code",
   "execution_count": 2,
   "metadata": {
    "collapsed": true
   },
   "outputs": [],
   "source": [
    "#Because I'm working locally, I just kept my private stuff private with local files for the API keys, etc.\n",
    "google_api_key_file = open(\"../../../gapi.key\")\n",
    "google_api_key = google_api_key_file.readline().replace('\\n', '')\n",
    "google_api_key_file.close()\n",
    "        \n",
    "fsquare_id_file = open(\"../../../fsquare.id\")\n",
    "fsquare_id = fsquare_id_file.readline().replace('\\n', '')\n",
    "fsquare_id_file.close()\n",
    "        \n",
    "fsquare_key_file = open(\"../../../fsquare.key\")\n",
    "fsquare_key = fsquare_key_file.readline().replace('\\n', '')\n",
    "fsquare_key_file.close()\n",
    "\n",
    "fsquare_version = '20180605'\n",
    "comicstore_cat = '52f2ab2ebcbc57f1066b8b18' #The Foursquare API code for Comic Book Store"
   ]
  },
  {
   "cell_type": "code",
   "execution_count": 3,
   "metadata": {
    "collapsed": false
   },
   "outputs": [],
   "source": [
    "#Class for basic city info (lat/lng, etc)\n",
    "class City():           \n",
    "    def __init__(self, name, state_abbrev):\n",
    "        self.name = name\n",
    "        self.state_abbrev = state_abbrev\n",
    "        self.city_state = self.name + ',' + self.state_abbrev\n",
    "        geolocator = Nominatim(user_agent=\"comic_project\")\n",
    "        location = geolocator.geocode(self.city_state)\n",
    "        self.latitude = location.latitude\n",
    "        self.longitude = location.longitude\n",
    "\n",
    "#Class for storing each City's Dataframe and some helper functions\n",
    "class CityComicStores():\n",
    "    def __init__(self, city):        \n",
    "        url = \"https://api.foursquare.com/v2/venues/explore?client_id={}&client_secret={}&v={}&near={}&intent=browse&categoryId={}\".format(fsquare_id, fsquare_key, fsquare_version, city.city_state, comicstore_cat)\n",
    "        self.results = requests.get(url).json()\n",
    "        self.stores = self.results['response']['groups'][0]['items']\n",
    "        self.stores = json_normalize(self.stores)\n",
    "        filtered_columns = ['venue.name', 'venue.location.address', 'venue.location.lat', 'venue.location.lng']\n",
    "        self.stores = self.stores.loc[:, filtered_columns]\n",
    "    \n",
    "    #Helper function to call the google API just to get the duration of the travel between two points\n",
    "    def checkTenMinuteDrive(self, start_lat, start_lng, dest_lat, dest_lng):\n",
    "        url = \"https://maps.googleapis.com/maps/api/distancematrix/json?units=imperial&origins={},{}&destinations={},{}&key={}\".format(start_lat, start_lng, dest_lat, dest_lng, google_api_key)\n",
    "        results = requests.get(url).json()\n",
    "        return results['rows'][0]['elements'][0]['duration']['value']\n",
    "    \n",
    "    #Helper function to repeatedly call checkTenMinuteDrive above for each dataframe combo and find the \n",
    "    #combinations within 10 minutes of each other\n",
    "    def countTens(self):\n",
    "        count = 0\n",
    "        \n",
    "        if self.stores.shape[0] > 1:\n",
    "            for i in self.stores.index:\n",
    "                for j in self.stores.index[i+1:]:\n",
    "                    if self.checkTenMinuteDrive(self.stores['venue.location.lat'].iloc[i], self.stores['venue.location.lng'].iloc[i], self.stores['venue.location.lat'].iloc[j], self.stores['venue.location.lng'].iloc[j]) <= 600:\n",
    "                        count+=1\n",
    "                    \n",
    "        return count"
   ]
  },
  {
   "cell_type": "code",
   "execution_count": 4,
   "metadata": {
    "collapsed": false
   },
   "outputs": [
    {
     "data": {
      "text/html": [
       "<div>\n",
       "<style scoped>\n",
       "    .dataframe tbody tr th:only-of-type {\n",
       "        vertical-align: middle;\n",
       "    }\n",
       "\n",
       "    .dataframe tbody tr th {\n",
       "        vertical-align: top;\n",
       "    }\n",
       "\n",
       "    .dataframe thead th {\n",
       "        text-align: right;\n",
       "    }\n",
       "</style>\n",
       "<table border=\"1\" class=\"dataframe\">\n",
       "  <thead>\n",
       "    <tr style=\"text-align: right;\">\n",
       "      <th></th>\n",
       "      <th>venue.name</th>\n",
       "      <th>venue.location.address</th>\n",
       "      <th>venue.location.lat</th>\n",
       "      <th>venue.location.lng</th>\n",
       "    </tr>\n",
       "  </thead>\n",
       "  <tbody>\n",
       "    <tr>\n",
       "      <th>0</th>\n",
       "      <td>Source Comics &amp; Games</td>\n",
       "      <td>2057 Snelling Ave N</td>\n",
       "      <td>45.003182</td>\n",
       "      <td>-93.167579</td>\n",
       "    </tr>\n",
       "    <tr>\n",
       "      <th>1</th>\n",
       "      <td>Comic Book College</td>\n",
       "      <td>3151 Hennepin Ave</td>\n",
       "      <td>44.945022</td>\n",
       "      <td>-93.298254</td>\n",
       "    </tr>\n",
       "    <tr>\n",
       "      <th>2</th>\n",
       "      <td>Uncle Sven's Comic Shoppe</td>\n",
       "      <td>1838 Saint Clair Ave</td>\n",
       "      <td>44.934249</td>\n",
       "      <td>-93.177912</td>\n",
       "    </tr>\n",
       "    <tr>\n",
       "      <th>3</th>\n",
       "      <td>High Class Comics</td>\n",
       "      <td>371 Earl St</td>\n",
       "      <td>44.952607</td>\n",
       "      <td>-93.055943</td>\n",
       "    </tr>\n",
       "    <tr>\n",
       "      <th>4</th>\n",
       "      <td>Mischief</td>\n",
       "      <td>NaN</td>\n",
       "      <td>44.939705</td>\n",
       "      <td>-93.134604</td>\n",
       "    </tr>\n",
       "    <tr>\n",
       "      <th>5</th>\n",
       "      <td>High Class Comics</td>\n",
       "      <td>733 E 48th St</td>\n",
       "      <td>44.916065</td>\n",
       "      <td>-93.263217</td>\n",
       "    </tr>\n",
       "    <tr>\n",
       "      <th>6</th>\n",
       "      <td>Eagle Anime</td>\n",
       "      <td>NaN</td>\n",
       "      <td>44.855414</td>\n",
       "      <td>-93.240919</td>\n",
       "    </tr>\n",
       "    <tr>\n",
       "      <th>7</th>\n",
       "      <td>Outpost 2000</td>\n",
       "      <td>536 Northdale Blvd NW</td>\n",
       "      <td>45.176256</td>\n",
       "      <td>-93.279915</td>\n",
       "    </tr>\n",
       "  </tbody>\n",
       "</table>\n",
       "</div>"
      ],
      "text/plain": [
       "                  venue.name venue.location.address  venue.location.lat  \\\n",
       "0      Source Comics & Games    2057 Snelling Ave N           45.003182   \n",
       "1         Comic Book College      3151 Hennepin Ave           44.945022   \n",
       "2  Uncle Sven's Comic Shoppe   1838 Saint Clair Ave           44.934249   \n",
       "3          High Class Comics            371 Earl St           44.952607   \n",
       "4                   Mischief                    NaN           44.939705   \n",
       "5          High Class Comics          733 E 48th St           44.916065   \n",
       "6                Eagle Anime                    NaN           44.855414   \n",
       "7               Outpost 2000  536 Northdale Blvd NW           45.176256   \n",
       "\n",
       "   venue.location.lng  \n",
       "0          -93.167579  \n",
       "1          -93.298254  \n",
       "2          -93.177912  \n",
       "3          -93.055943  \n",
       "4          -93.134604  \n",
       "5          -93.263217  \n",
       "6          -93.240919  \n",
       "7          -93.279915  "
      ]
     },
     "execution_count": 4,
     "metadata": {},
     "output_type": "execute_result"
    }
   ],
   "source": [
    "#For a baseline, I'm going to call my home city of St. Paul\n",
    "saintPaul = City('Saint Paul', 'MN')\n",
    "saintPaulComics = CityComicStores(saintPaul)\n",
    "saintPaulComics.stores.head(20)"
   ]
  },
  {
   "cell_type": "code",
   "execution_count": 5,
   "metadata": {
    "collapsed": false
   },
   "outputs": [
    {
     "data": {
      "text/plain": [
       "1"
      ]
     },
     "execution_count": 5,
     "metadata": {},
     "output_type": "execute_result"
    }
   ],
   "source": [
    "#A result of 1...my initial problem statement seems justified!\n",
    "saintPaulTens = saintPaulComics.countTens()\n",
    "saintPaulTens"
   ]
  },
  {
   "cell_type": "code",
   "execution_count": 6,
   "metadata": {
    "collapsed": false
   },
   "outputs": [
    {
     "data": {
      "text/html": [
       "<div>\n",
       "<style scoped>\n",
       "    .dataframe tbody tr th:only-of-type {\n",
       "        vertical-align: middle;\n",
       "    }\n",
       "\n",
       "    .dataframe tbody tr th {\n",
       "        vertical-align: top;\n",
       "    }\n",
       "\n",
       "    .dataframe thead th {\n",
       "        text-align: right;\n",
       "    }\n",
       "</style>\n",
       "<table border=\"1\" class=\"dataframe\">\n",
       "  <thead>\n",
       "    <tr style=\"text-align: right;\">\n",
       "      <th></th>\n",
       "      <th>venue.name</th>\n",
       "      <th>venue.location.address</th>\n",
       "      <th>venue.location.lat</th>\n",
       "      <th>venue.location.lng</th>\n",
       "    </tr>\n",
       "  </thead>\n",
       "  <tbody>\n",
       "    <tr>\n",
       "      <th>0</th>\n",
       "      <td>Floating World Comics</td>\n",
       "      <td>400 NW Couch St</td>\n",
       "      <td>45.523740</td>\n",
       "      <td>-122.674538</td>\n",
       "    </tr>\n",
       "    <tr>\n",
       "      <th>1</th>\n",
       "      <td>Bridge City Comics</td>\n",
       "      <td>3725 N Mississippi Ave</td>\n",
       "      <td>45.549864</td>\n",
       "      <td>-122.675633</td>\n",
       "    </tr>\n",
       "    <tr>\n",
       "      <th>2</th>\n",
       "      <td>Books With Pictures</td>\n",
       "      <td>1100 SE Division St Ste 103</td>\n",
       "      <td>45.504701</td>\n",
       "      <td>-122.654436</td>\n",
       "    </tr>\n",
       "    <tr>\n",
       "      <th>3</th>\n",
       "      <td>Things From Another World</td>\n",
       "      <td>2916 NE Broadway St</td>\n",
       "      <td>45.535062</td>\n",
       "      <td>-122.635629</td>\n",
       "    </tr>\n",
       "    <tr>\n",
       "      <th>4</th>\n",
       "      <td>Cosmic Monkey Comics</td>\n",
       "      <td>5335 NE Sandy Blvd</td>\n",
       "      <td>45.540819</td>\n",
       "      <td>-122.608256</td>\n",
       "    </tr>\n",
       "    <tr>\n",
       "      <th>5</th>\n",
       "      <td>Excalibur Comics</td>\n",
       "      <td>2444 SE Hawthorne Blvd</td>\n",
       "      <td>45.511850</td>\n",
       "      <td>-122.640657</td>\n",
       "    </tr>\n",
       "    <tr>\n",
       "      <th>6</th>\n",
       "      <td>Cloud 9 Comics</td>\n",
       "      <td>2621 SE Clinton St</td>\n",
       "      <td>45.503646</td>\n",
       "      <td>-122.639257</td>\n",
       "    </tr>\n",
       "    <tr>\n",
       "      <th>7</th>\n",
       "      <td>Guapo Comics &amp; Coffee</td>\n",
       "      <td>6350 SE Foster Rd</td>\n",
       "      <td>45.489691</td>\n",
       "      <td>-122.597193</td>\n",
       "    </tr>\n",
       "    <tr>\n",
       "      <th>8</th>\n",
       "      <td>Turn! Turn! Turn!</td>\n",
       "      <td>8 NE Killingsworth St</td>\n",
       "      <td>45.562588</td>\n",
       "      <td>-122.666802</td>\n",
       "    </tr>\n",
       "    <tr>\n",
       "      <th>9</th>\n",
       "      <td>Comic Cave PDX</td>\n",
       "      <td>7315 N Alta Ave</td>\n",
       "      <td>45.590024</td>\n",
       "      <td>-122.755521</td>\n",
       "    </tr>\n",
       "  </tbody>\n",
       "</table>\n",
       "</div>"
      ],
      "text/plain": [
       "                  venue.name       venue.location.address  venue.location.lat  \\\n",
       "0      Floating World Comics              400 NW Couch St           45.523740   \n",
       "1         Bridge City Comics       3725 N Mississippi Ave           45.549864   \n",
       "2        Books With Pictures  1100 SE Division St Ste 103           45.504701   \n",
       "3  Things From Another World          2916 NE Broadway St           45.535062   \n",
       "4       Cosmic Monkey Comics           5335 NE Sandy Blvd           45.540819   \n",
       "5           Excalibur Comics       2444 SE Hawthorne Blvd           45.511850   \n",
       "6             Cloud 9 Comics           2621 SE Clinton St           45.503646   \n",
       "7      Guapo Comics & Coffee            6350 SE Foster Rd           45.489691   \n",
       "8          Turn! Turn! Turn!        8 NE Killingsworth St           45.562588   \n",
       "9             Comic Cave PDX              7315 N Alta Ave           45.590024   \n",
       "\n",
       "   venue.location.lng  \n",
       "0         -122.674538  \n",
       "1         -122.675633  \n",
       "2         -122.654436  \n",
       "3         -122.635629  \n",
       "4         -122.608256  \n",
       "5         -122.640657  \n",
       "6         -122.639257  \n",
       "7         -122.597193  \n",
       "8         -122.666802  \n",
       "9         -122.755521  "
      ]
     },
     "execution_count": 6,
     "metadata": {},
     "output_type": "execute_result"
    }
   ],
   "source": [
    "portland = City('Portland', 'OR')\n",
    "portlandComics = CityComicStores(portland)\n",
    "portlandComics.stores.head(20)"
   ]
  },
  {
   "cell_type": "code",
   "execution_count": 7,
   "metadata": {
    "collapsed": false
   },
   "outputs": [
    {
     "data": {
      "text/plain": [
       "11"
      ]
     },
     "execution_count": 7,
     "metadata": {},
     "output_type": "execute_result"
    }
   ],
   "source": [
    "portlandTens = portlandComics.countTens()\n",
    "portlandTens"
   ]
  },
  {
   "cell_type": "code",
   "execution_count": 8,
   "metadata": {
    "collapsed": false
   },
   "outputs": [
    {
     "data": {
      "text/html": [
       "<div>\n",
       "<style scoped>\n",
       "    .dataframe tbody tr th:only-of-type {\n",
       "        vertical-align: middle;\n",
       "    }\n",
       "\n",
       "    .dataframe tbody tr th {\n",
       "        vertical-align: top;\n",
       "    }\n",
       "\n",
       "    .dataframe thead th {\n",
       "        text-align: right;\n",
       "    }\n",
       "</style>\n",
       "<table border=\"1\" class=\"dataframe\">\n",
       "  <thead>\n",
       "    <tr style=\"text-align: right;\">\n",
       "      <th></th>\n",
       "      <th>venue.name</th>\n",
       "      <th>venue.location.address</th>\n",
       "      <th>venue.location.lat</th>\n",
       "      <th>venue.location.lng</th>\n",
       "    </tr>\n",
       "  </thead>\n",
       "  <tbody>\n",
       "    <tr>\n",
       "      <th>0</th>\n",
       "      <td>Collector's Edge Comics</td>\n",
       "      <td>2330 S Kinnickinnic Ave</td>\n",
       "      <td>43.002356</td>\n",
       "      <td>-87.903678</td>\n",
       "    </tr>\n",
       "    <tr>\n",
       "      <th>1</th>\n",
       "      <td>Hi Fi Cafe</td>\n",
       "      <td>2640 S Kinnickinnic Ave</td>\n",
       "      <td>42.997007</td>\n",
       "      <td>-87.898513</td>\n",
       "    </tr>\n",
       "    <tr>\n",
       "      <th>2</th>\n",
       "      <td>Collector's Edge Comics</td>\n",
       "      <td>2004 N Farwell Ave</td>\n",
       "      <td>43.056804</td>\n",
       "      <td>-87.888555</td>\n",
       "    </tr>\n",
       "    <tr>\n",
       "      <th>3</th>\n",
       "      <td>Earth's Mightiest Comics</td>\n",
       "      <td>6015 W Forest Home Ave</td>\n",
       "      <td>42.975070</td>\n",
       "      <td>-87.988704</td>\n",
       "    </tr>\n",
       "  </tbody>\n",
       "</table>\n",
       "</div>"
      ],
      "text/plain": [
       "                 venue.name   venue.location.address  venue.location.lat  \\\n",
       "0   Collector's Edge Comics  2330 S Kinnickinnic Ave           43.002356   \n",
       "1                Hi Fi Cafe  2640 S Kinnickinnic Ave           42.997007   \n",
       "2   Collector's Edge Comics       2004 N Farwell Ave           43.056804   \n",
       "3  Earth's Mightiest Comics   6015 W Forest Home Ave           42.975070   \n",
       "\n",
       "   venue.location.lng  \n",
       "0          -87.903678  \n",
       "1          -87.898513  \n",
       "2          -87.888555  \n",
       "3          -87.988704  "
      ]
     },
     "execution_count": 8,
     "metadata": {},
     "output_type": "execute_result"
    }
   ],
   "source": [
    "milwaukee = City('Milwaukee', 'WI')\n",
    "milwaukeeComics = CityComicStores(milwaukee)\n",
    "milwaukeeComics.stores.head(20)"
   ]
  },
  {
   "cell_type": "code",
   "execution_count": 9,
   "metadata": {
    "collapsed": false
   },
   "outputs": [
    {
     "data": {
      "text/plain": [
       "1"
      ]
     },
     "execution_count": 9,
     "metadata": {},
     "output_type": "execute_result"
    }
   ],
   "source": [
    "milwaukeeTens = milwaukeeComics.countTens()\n",
    "milwaukeeTens"
   ]
  },
  {
   "cell_type": "code",
   "execution_count": 10,
   "metadata": {
    "collapsed": false
   },
   "outputs": [
    {
     "data": {
      "text/html": [
       "<div>\n",
       "<style scoped>\n",
       "    .dataframe tbody tr th:only-of-type {\n",
       "        vertical-align: middle;\n",
       "    }\n",
       "\n",
       "    .dataframe tbody tr th {\n",
       "        vertical-align: top;\n",
       "    }\n",
       "\n",
       "    .dataframe thead th {\n",
       "        text-align: right;\n",
       "    }\n",
       "</style>\n",
       "<table border=\"1\" class=\"dataframe\">\n",
       "  <thead>\n",
       "    <tr style=\"text-align: right;\">\n",
       "      <th></th>\n",
       "      <th>venue.name</th>\n",
       "      <th>venue.location.address</th>\n",
       "      <th>venue.location.lat</th>\n",
       "      <th>venue.location.lng</th>\n",
       "    </tr>\n",
       "  </thead>\n",
       "  <tbody>\n",
       "    <tr>\n",
       "      <th>0</th>\n",
       "      <td>Laughing Ogre</td>\n",
       "      <td>4258 N High St</td>\n",
       "      <td>40.048918</td>\n",
       "      <td>-83.019916</td>\n",
       "    </tr>\n",
       "    <tr>\n",
       "      <th>1</th>\n",
       "      <td>Capital City Comics</td>\n",
       "      <td>1915 Rte 256</td>\n",
       "      <td>39.944501</td>\n",
       "      <td>-82.796356</td>\n",
       "    </tr>\n",
       "    <tr>\n",
       "      <th>2</th>\n",
       "      <td>Comic Town Gaming Center</td>\n",
       "      <td>94 Dillmont Dr</td>\n",
       "      <td>40.135008</td>\n",
       "      <td>-83.013448</td>\n",
       "    </tr>\n",
       "  </tbody>\n",
       "</table>\n",
       "</div>"
      ],
      "text/plain": [
       "                 venue.name venue.location.address  venue.location.lat  \\\n",
       "0             Laughing Ogre         4258 N High St           40.048918   \n",
       "1       Capital City Comics           1915 Rte 256           39.944501   \n",
       "2  Comic Town Gaming Center         94 Dillmont Dr           40.135008   \n",
       "\n",
       "   venue.location.lng  \n",
       "0          -83.019916  \n",
       "1          -82.796356  \n",
       "2          -83.013448  "
      ]
     },
     "execution_count": 10,
     "metadata": {},
     "output_type": "execute_result"
    }
   ],
   "source": [
    "columbus = City('Columbus', 'OH')\n",
    "columbusComics = CityComicStores(columbus)\n",
    "columbusComics.stores.head(20)"
   ]
  },
  {
   "cell_type": "code",
   "execution_count": 11,
   "metadata": {
    "collapsed": false
   },
   "outputs": [
    {
     "data": {
      "text/plain": [
       "0"
      ]
     },
     "execution_count": 11,
     "metadata": {},
     "output_type": "execute_result"
    }
   ],
   "source": [
    "columbusTens = columbusComics.countTens()\n",
    "columbusTens"
   ]
  },
  {
   "cell_type": "code",
   "execution_count": 12,
   "metadata": {
    "collapsed": false
   },
   "outputs": [
    {
     "data": {
      "text/html": [
       "<div>\n",
       "<style scoped>\n",
       "    .dataframe tbody tr th:only-of-type {\n",
       "        vertical-align: middle;\n",
       "    }\n",
       "\n",
       "    .dataframe tbody tr th {\n",
       "        vertical-align: top;\n",
       "    }\n",
       "\n",
       "    .dataframe thead th {\n",
       "        text-align: right;\n",
       "    }\n",
       "</style>\n",
       "<table border=\"1\" class=\"dataframe\">\n",
       "  <thead>\n",
       "    <tr style=\"text-align: right;\">\n",
       "      <th></th>\n",
       "      <th>venue.name</th>\n",
       "      <th>venue.location.address</th>\n",
       "      <th>venue.location.lat</th>\n",
       "      <th>venue.location.lng</th>\n",
       "    </tr>\n",
       "  </thead>\n",
       "  <tbody>\n",
       "    <tr>\n",
       "      <th>0</th>\n",
       "      <td>MUTINY Information Cafe</td>\n",
       "      <td>2 S Broadway</td>\n",
       "      <td>39.716474</td>\n",
       "      <td>-104.987317</td>\n",
       "    </tr>\n",
       "    <tr>\n",
       "      <th>1</th>\n",
       "      <td>Mile High Comics</td>\n",
       "      <td>4600 Jason St</td>\n",
       "      <td>39.780369</td>\n",
       "      <td>-104.999112</td>\n",
       "    </tr>\n",
       "    <tr>\n",
       "      <th>2</th>\n",
       "      <td>Hero Headquarters</td>\n",
       "      <td>8757 Sheridan Blvd</td>\n",
       "      <td>39.854950</td>\n",
       "      <td>-105.055153</td>\n",
       "    </tr>\n",
       "    <tr>\n",
       "      <th>3</th>\n",
       "      <td>Garage Sale Collectibles</td>\n",
       "      <td>3234 S Wadsworth Blvd</td>\n",
       "      <td>39.657268</td>\n",
       "      <td>-105.080586</td>\n",
       "    </tr>\n",
       "    <tr>\n",
       "      <th>4</th>\n",
       "      <td>5280 Comics</td>\n",
       "      <td>NaN</td>\n",
       "      <td>39.608627</td>\n",
       "      <td>-105.100503</td>\n",
       "    </tr>\n",
       "    <tr>\n",
       "      <th>5</th>\n",
       "      <td>Vision Comics &amp; Oddities</td>\n",
       "      <td>3958 South Federal Boulevard</td>\n",
       "      <td>39.644535</td>\n",
       "      <td>-105.024944</td>\n",
       "    </tr>\n",
       "    <tr>\n",
       "      <th>6</th>\n",
       "      <td>Mile High Comics</td>\n",
       "      <td>NaN</td>\n",
       "      <td>39.702725</td>\n",
       "      <td>-104.940217</td>\n",
       "    </tr>\n",
       "    <tr>\n",
       "      <th>7</th>\n",
       "      <td>JNJ Comics &amp; Games</td>\n",
       "      <td>NaN</td>\n",
       "      <td>39.914659</td>\n",
       "      <td>-104.940930</td>\n",
       "    </tr>\n",
       "  </tbody>\n",
       "</table>\n",
       "</div>"
      ],
      "text/plain": [
       "                 venue.name        venue.location.address  venue.location.lat  \\\n",
       "0   MUTINY Information Cafe                  2 S Broadway           39.716474   \n",
       "1          Mile High Comics                 4600 Jason St           39.780369   \n",
       "2         Hero Headquarters            8757 Sheridan Blvd           39.854950   \n",
       "3  Garage Sale Collectibles         3234 S Wadsworth Blvd           39.657268   \n",
       "4               5280 Comics                           NaN           39.608627   \n",
       "5  Vision Comics & Oddities  3958 South Federal Boulevard           39.644535   \n",
       "6          Mile High Comics                           NaN           39.702725   \n",
       "7        JNJ Comics & Games                           NaN           39.914659   \n",
       "\n",
       "   venue.location.lng  \n",
       "0         -104.987317  \n",
       "1         -104.999112  \n",
       "2         -105.055153  \n",
       "3         -105.080586  \n",
       "4         -105.100503  \n",
       "5         -105.024944  \n",
       "6         -104.940217  \n",
       "7         -104.940930  "
      ]
     },
     "execution_count": 12,
     "metadata": {},
     "output_type": "execute_result"
    }
   ],
   "source": [
    "denver = City('Denver', 'CO')\n",
    "denverComics = CityComicStores(denver)\n",
    "denverComics.stores.head(20)"
   ]
  },
  {
   "cell_type": "code",
   "execution_count": 13,
   "metadata": {
    "collapsed": false
   },
   "outputs": [
    {
     "data": {
      "text/plain": [
       "1"
      ]
     },
     "execution_count": 13,
     "metadata": {},
     "output_type": "execute_result"
    }
   ],
   "source": [
    "denverTens = denverComics.countTens()\n",
    "denverTens"
   ]
  },
  {
   "cell_type": "code",
   "execution_count": 14,
   "metadata": {
    "collapsed": false
   },
   "outputs": [
    {
     "name": "stderr",
     "output_type": "stream",
     "text": [
      "/home/garison/.local/share/canopy/edm/envs/User/lib/python3.5/site-packages/pandas/core/indexing.py:1472: FutureWarning: \n",
      "Passing list-likes to .loc or [] with any missing label will raise\n",
      "KeyError in the future, you can use .reindex() as an alternative.\n",
      "\n",
      "See the documentation here:\n",
      "https://pandas.pydata.org/pandas-docs/stable/indexing.html#deprecate-loc-reindex-listlike\n",
      "  return self._getitem_tuple(key)\n"
     ]
    },
    {
     "data": {
      "text/html": [
       "<div>\n",
       "<style scoped>\n",
       "    .dataframe tbody tr th:only-of-type {\n",
       "        vertical-align: middle;\n",
       "    }\n",
       "\n",
       "    .dataframe tbody tr th {\n",
       "        vertical-align: top;\n",
       "    }\n",
       "\n",
       "    .dataframe thead th {\n",
       "        text-align: right;\n",
       "    }\n",
       "</style>\n",
       "<table border=\"1\" class=\"dataframe\">\n",
       "  <thead>\n",
       "    <tr style=\"text-align: right;\">\n",
       "      <th></th>\n",
       "      <th>venue.name</th>\n",
       "      <th>venue.location.address</th>\n",
       "      <th>venue.location.lat</th>\n",
       "      <th>venue.location.lng</th>\n",
       "    </tr>\n",
       "  </thead>\n",
       "  <tbody>\n",
       "    <tr>\n",
       "      <th>0</th>\n",
       "      <td>Vintage Stock</td>\n",
       "      <td>NaN</td>\n",
       "      <td>39.191393</td>\n",
       "      <td>-94.547104</td>\n",
       "    </tr>\n",
       "  </tbody>\n",
       "</table>\n",
       "</div>"
      ],
      "text/plain": [
       "      venue.name  venue.location.address  venue.location.lat  \\\n",
       "0  Vintage Stock                     NaN           39.191393   \n",
       "\n",
       "   venue.location.lng  \n",
       "0          -94.547104  "
      ]
     },
     "execution_count": 14,
     "metadata": {},
     "output_type": "execute_result"
    }
   ],
   "source": [
    "#I'm not going to worry too much about the error here.  There is only 1 result for kc.\n",
    "kc = City('Kansas City', 'MO')\n",
    "kcComics = CityComicStores(kc)\n",
    "kcComics.stores.head(20)"
   ]
  },
  {
   "cell_type": "code",
   "execution_count": 15,
   "metadata": {
    "collapsed": true
   },
   "outputs": [],
   "source": [
    "#Simply hardcoding kc to 0\n",
    "kcTens = 0"
   ]
  },
  {
   "cell_type": "code",
   "execution_count": 16,
   "metadata": {
    "collapsed": false
   },
   "outputs": [
    {
     "data": {
      "text/html": [
       "<div>\n",
       "<style scoped>\n",
       "    .dataframe tbody tr th:only-of-type {\n",
       "        vertical-align: middle;\n",
       "    }\n",
       "\n",
       "    .dataframe tbody tr th {\n",
       "        vertical-align: top;\n",
       "    }\n",
       "\n",
       "    .dataframe thead th {\n",
       "        text-align: right;\n",
       "    }\n",
       "</style>\n",
       "<table border=\"1\" class=\"dataframe\">\n",
       "  <thead>\n",
       "    <tr style=\"text-align: right;\">\n",
       "      <th></th>\n",
       "      <th>venue.name</th>\n",
       "      <th>venue.location.address</th>\n",
       "      <th>venue.location.lat</th>\n",
       "      <th>venue.location.lng</th>\n",
       "    </tr>\n",
       "  </thead>\n",
       "  <tbody>\n",
       "    <tr>\n",
       "      <th>0</th>\n",
       "      <td>Westfield Comics</td>\n",
       "      <td>7475 Mineral Point Rd</td>\n",
       "      <td>43.058835</td>\n",
       "      <td>-89.512690</td>\n",
       "    </tr>\n",
       "    <tr>\n",
       "      <th>1</th>\n",
       "      <td>Westfield Comics</td>\n",
       "      <td>944 Williamson St Ste 3</td>\n",
       "      <td>43.080754</td>\n",
       "      <td>-89.368370</td>\n",
       "    </tr>\n",
       "    <tr>\n",
       "      <th>2</th>\n",
       "      <td>A New Hope</td>\n",
       "      <td>NaN</td>\n",
       "      <td>43.075200</td>\n",
       "      <td>-89.393451</td>\n",
       "    </tr>\n",
       "    <tr>\n",
       "      <th>3</th>\n",
       "      <td>Graham Crackers Comics</td>\n",
       "      <td>2831 E Washington Ave</td>\n",
       "      <td>43.102117</td>\n",
       "      <td>-89.344779</td>\n",
       "    </tr>\n",
       "  </tbody>\n",
       "</table>\n",
       "</div>"
      ],
      "text/plain": [
       "               venue.name   venue.location.address  venue.location.lat  \\\n",
       "0        Westfield Comics    7475 Mineral Point Rd           43.058835   \n",
       "1        Westfield Comics  944 Williamson St Ste 3           43.080754   \n",
       "2              A New Hope                      NaN           43.075200   \n",
       "3  Graham Crackers Comics    2831 E Washington Ave           43.102117   \n",
       "\n",
       "   venue.location.lng  \n",
       "0          -89.512690  \n",
       "1          -89.368370  \n",
       "2          -89.393451  \n",
       "3          -89.344779  "
      ]
     },
     "execution_count": 16,
     "metadata": {},
     "output_type": "execute_result"
    }
   ],
   "source": [
    "madison = City('Madison', 'WI')\n",
    "madisonComics = CityComicStores(madison)\n",
    "madisonComics.stores.head(20)"
   ]
  },
  {
   "cell_type": "code",
   "execution_count": 17,
   "metadata": {
    "collapsed": false
   },
   "outputs": [
    {
     "data": {
      "text/plain": [
       "2"
      ]
     },
     "execution_count": 17,
     "metadata": {},
     "output_type": "execute_result"
    }
   ],
   "source": [
    "madisonTens = madisonComics.countTens()\n",
    "madisonTens"
   ]
  },
  {
   "cell_type": "markdown",
   "metadata": {},
   "source": [
    "# Results"
   ]
  },
  {
   "cell_type": "markdown",
   "metadata": {},
   "source": [
    "The city of Portland far and away won the comparison scores using the methods above.  "
   ]
  },
  {
   "cell_type": "markdown",
   "metadata": {},
   "source": [
    "# Discussion"
   ]
  },
  {
   "cell_type": "markdown",
   "metadata": {},
   "source": [
    "Time permitting it would be nice to compare more cities to find more cities of comparable size that have roughly 10 or so Comic Book store results.  With this amount of data it is fairly hard to normalize the results (cities like Madison had only 4 results compared to Portland's 9).  \n",
    "\n",
    "But even St. Paul and Denver had 7, which is fairly close, but geographicaly these results were fairly spreadout when compared to Portland.  \n",
    "\n",
    "I wonder if this result points to Portland (as a city generally) is fairly compact geographically and so comic book stores are also equally compact.  Or maybe Portland just loves comics!  It's hard to tell from this data."
   ]
  },
  {
   "cell_type": "markdown",
   "metadata": {},
   "source": [
    "# Conclusion"
   ]
  },
  {
   "cell_type": "markdown",
   "metadata": {},
   "source": [
    "Portland, here I come!"
   ]
  },
  {
   "cell_type": "markdown",
   "metadata": {},
   "source": [
    "# Presentation"
   ]
  },
  {
   "cell_type": "code",
   "execution_count": 19,
   "metadata": {
    "collapsed": false
   },
   "outputs": [
    {
     "data": {
      "image/png": "[encoded data removed]",
      "text/plain": [
       "<matplotlib.figure.Figure at 0x7ff16701e780>"
      ]
     },
     "metadata": {},
     "output_type": "display_data"
    }
   ],
   "source": [
    "import numpy as np                                                               \n",
    "import matplotlib.pyplot as plt\n",
    "\n",
    "city_results=[('St. Paul',1),('Portland',11),('Milwaukee',1), ('Columbus', 0), ('Denver', 1), ('Kansas City', 0), ('Madison', 2)]\n",
    "fig_size = plt.rcParams[\"figure.figsize\"]\n",
    "fig_size[0] = 12\n",
    "fig_size[1] = 9\n",
    "plt.rcParams[\"figure.figsize\"] = fig_size\n",
    "labels, ys = zip(*city_results)\n",
    "xs = np.arange(len(labels)) \n",
    "width = 1\n",
    "plt.bar(xs, ys, width, align='center')\n",
    "\n",
    "plt.xticks(xs, labels) \n",
    "plt.yticks(ys)\n",
    "plt.show()"
   ]
  },
  {
   "cell_type": "markdown",
   "metadata": {},
   "source": [
    "As stated in the conclusion, Portland easily won the comparison, but I wanted to have a presentation via a visualization here for a very simple summary.  Something that I did find interesting was that my initial problem statement was proven somewhat by the numbers I found here.\n",
    "\n",
    "Even though St. Paul had a good number of comic book stores, they are fairly spread out.  The same was true of the similar city Denver.  But Portland is very compact by lookup with the Google Maps API calls.\n",
    "\n",
    "Also, for clarity, I did not show the raw Google Maps driving time durations.  I am a little worried that this could be seen as a violation of the Google terms of service there so I simplified that data as a binary \"with in 10 minutes\" true/false type value.  Then counted those values.  I'm hoping that simplifies the city comparison as well.\n",
    "\n",
    "I wonder if (like most businesses), it is more ideal for comic book stores to not be too close to each other.  If stores are too close they may poach too much business for each other.  This is good for the stores, but not the perfectly ideal scenario for me as I stated in my problem statement.  Again, I wonder if I were to run these numbers on more and more cities if I would see that generally spread out stores, with a few outliers like Portland."
   ]
  },
  {
   "cell_type": "code",
   "execution_count": null,
   "metadata": {
    "collapsed": true
   },
   "outputs": [],
   "source": []
  }
 ],
 "metadata": {
  "kernelspec": {
   "display_name": "Python 3",
   "language": "python",
   "name": "python3"
  },
  "language_info": {
   "codemirror_mode": {
    "name": "ipython",
    "version": 3
   },
   "file_extension": ".py",
   "mimetype": "text/x-python",
   "name": "python",
   "nbconvert_exporter": "python",
   "pygments_lexer": "ipython3",
   "version": "3.5.2"
  }
 },
 "nbformat": 4,
 "nbformat_minor": 2
}
